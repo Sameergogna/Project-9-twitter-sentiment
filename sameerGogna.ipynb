{
  "nbformat": 4,
  "nbformat_minor": 0,
  "metadata": {
    "colab": {
      "name": "sameerGogna DL-MLpart 2.ipynb",
      "provenance": [],
      "collapsed_sections": []
    },
    "kernelspec": {
      "name": "python3",
      "display_name": "Python 3"
    },
    "language_info": {
      "name": "python"
    }
  },
  "cells": [
    {
      "cell_type": "code",
      "execution_count": 11,
      "metadata": {
        "id": "OpBy2FMeGJAW"
      },
      "outputs": [],
      "source": [
        "import numpy as np\n",
        "import pandas as pd \n",
        "import matplotlib.pyplot as plt\n",
        "import seaborn as sns\n",
        "\n",
        "import warnings\n",
        "warnings.filterwarnings(\"ignore\")\n",
        "\n",
        "import re\n",
        "from bs4 import BeautifulSoup\n",
        "from tqdm import tqdm\n",
        "from nltk.stem import WordNetLemmatizer\n",
        "\n",
        "from sklearn.model_selection import train_test_split\n",
        "from sklearn.metrics import accuracy_score,f1_score, confusion_matrix\n",
        "\n",
        "from keras.preprocessing.text import Tokenizer\n",
        "from keras.preprocessing.sequence import pad_sequences\n",
        "from keras.layers import Dense , Input , LSTM , Embedding, Dropout , Activation, GRU, Flatten\n",
        "from keras.layers import Bidirectional, GlobalMaxPool1D\n",
        "from keras.models import Model, Sequential\n",
        "from keras.layers import Convolution1D\n",
        "from keras import initializers, regularizers, constraints, optimizers, layers"
      ]
    },
    {
      "cell_type": "code",
      "source": [
        "df = pd.read_csv(r'/content/drive/MyDrive/Sentiment.csv')"
      ],
      "metadata": {
        "id": "VIVxSaW5H-rX"
      },
      "execution_count": 12,
      "outputs": []
    },
    {
      "cell_type": "markdown",
      "source": [
        "# New section"
      ],
      "metadata": {
        "id": "UgmizupMJ1bc"
      }
    },
    {
      "cell_type": "code",
      "source": [
        "print(\"Szie of the data : \", df.shape)"
      ],
      "metadata": {
        "colab": {
          "base_uri": "https://localhost:8080/"
        },
        "id": "vd9lzKtgIJ4r",
        "outputId": "fc051fb9-80cb-48bc-815c-bb6cae680a6e"
      },
      "execution_count": 7,
      "outputs": [
        {
          "output_type": "stream",
          "name": "stdout",
          "text": [
            "Szie of the data :  (13871, 21)\n"
          ]
        }
      ]
    },
    {
      "cell_type": "code",
      "source": [
        "df_filtered = df[df[\"sentiment\"]!='Neutral']\n",
        "df_filtered.shape"
      ],
      "metadata": {
        "colab": {
          "base_uri": "https://localhost:8080/"
        },
        "id": "4RxEA5lWMrjn",
        "outputId": "f1799fd1-6c02-4aa6-bfcd-ae35a2578375"
      },
      "execution_count": 8,
      "outputs": [
        {
          "output_type": "execute_result",
          "data": {
            "text/plain": [
              "(10729, 21)"
            ]
          },
          "metadata": {},
          "execution_count": 8
        }
      ]
    },
    {
      "cell_type": "code",
      "source": [
        "df_filtered"
      ],
      "metadata": {
        "colab": {
          "base_uri": "https://localhost:8080/",
          "height": 887
        },
        "id": "f0zlxAZ9NBsU",
        "outputId": "bd5e560f-c872-4979-9374-b726812d4ac0"
      },
      "execution_count": 9,
      "outputs": [
        {
          "output_type": "execute_result",
          "data": {
            "text/plain": [
              "          id               candidate  candidate_confidence relevant_yn  \\\n",
              "1          2            Scott Walker                1.0000         yes   \n",
              "3          4  No candidate mentioned                1.0000         yes   \n",
              "4          5            Donald Trump                1.0000         yes   \n",
              "5          6                Ted Cruz                0.6332         yes   \n",
              "6          7  No candidate mentioned                1.0000         yes   \n",
              "...      ...                     ...                   ...         ...   \n",
              "13866  13867  No candidate mentioned                1.0000         yes   \n",
              "13867  13868           Mike Huckabee                0.9611         yes   \n",
              "13868  13869                Ted Cruz                1.0000         yes   \n",
              "13869  13870            Donald Trump                1.0000         yes   \n",
              "13870  13871                Ted Cruz                0.9242         yes   \n",
              "\n",
              "       relevant_yn_confidence sentiment  sentiment_confidence  \\\n",
              "1                      1.0000  Positive                0.6333   \n",
              "3                      1.0000  Positive                1.0000   \n",
              "4                      1.0000  Positive                0.7045   \n",
              "5                      1.0000  Positive                0.6332   \n",
              "6                      1.0000  Negative                0.6761   \n",
              "...                       ...       ...                   ...   \n",
              "13866                  1.0000  Negative                0.7991   \n",
              "13867                  1.0000  Positive                0.7302   \n",
              "13868                  1.0000  Positive                0.8051   \n",
              "13869                  1.0000  Negative                1.0000   \n",
              "13870                  0.9614  Positive                0.9614   \n",
              "\n",
              "                             subject_matter  subject_matter_confidence  \\\n",
              "1                         None of the above                     1.0000   \n",
              "3                         None of the above                     0.7039   \n",
              "4                         None of the above                     1.0000   \n",
              "5                         None of the above                     1.0000   \n",
              "6                    FOX News or Moderators                     1.0000   \n",
              "...                                     ...                        ...   \n",
              "13866                              Abortion                     0.6014   \n",
              "13867                     None of the above                     0.9229   \n",
              "13868                     None of the above                     0.9647   \n",
              "13869  Women's Issues (not abortion though)                     0.9202   \n",
              "13870                     None of the above                     0.9242   \n",
              "\n",
              "               candidate_gold  ... relevant_yn_gold retweet_count  \\\n",
              "1                         NaN  ...              NaN            26   \n",
              "3                         NaN  ...              NaN           138   \n",
              "4                         NaN  ...              NaN           156   \n",
              "5                         NaN  ...              NaN           228   \n",
              "6                         NaN  ...              NaN            17   \n",
              "...                       ...  ...              ...           ...   \n",
              "13866  No candidate mentioned  ...              yes             7   \n",
              "13867           Mike Huckabee  ...              yes             1   \n",
              "13868                Ted Cruz  ...              yes            67   \n",
              "13869            Donald Trump  ...              yes           149   \n",
              "13870                Ted Cruz  ...              yes            65   \n",
              "\n",
              "          sentiment_gold                             subject_matter_gold  \\\n",
              "1                    NaN                                             NaN   \n",
              "3                    NaN                                             NaN   \n",
              "4                    NaN                                             NaN   \n",
              "5                    NaN                                             NaN   \n",
              "6                    NaN                                             NaN   \n",
              "...                  ...                                             ...   \n",
              "13866           Negative  Abortion\\nWomen's Issues (not abortion though)   \n",
              "13867                NaN                                             NaN   \n",
              "13868  Positive\\nNeutral                                             NaN   \n",
              "13869                NaN            Women's Issues (not abortion though)   \n",
              "13870           Positive                                             NaN   \n",
              "\n",
              "                                                    text tweet_coord  \\\n",
              "1      RT @ScottWalker: Didn't catch the full #GOPdeb...         NaN   \n",
              "3      RT @RobGeorge: That Carly Fiorina is trending ...         NaN   \n",
              "4      RT @DanScavino: #GOPDebate w/ @realDonaldTrump...         NaN   \n",
              "5      RT @GregAbbott_TX: @TedCruz: \"On my first day ...         NaN   \n",
              "6      RT @warriorwoman91: I liked her and was happy ...         NaN   \n",
              "...                                                  ...         ...   \n",
              "13866  RT @cappy_yarbrough: Love to see men who will ...         NaN   \n",
              "13867  RT @georgehenryw: Who thought Huckabee exceede...         NaN   \n",
              "13868  RT @Lrihendry: #TedCruz As President, I will a...         NaN   \n",
              "13869  RT @JRehling: #GOPDebate Donald Trump says tha...         NaN   \n",
              "13870  RT @Lrihendry: #TedCruz headed into the Presid...         NaN   \n",
              "\n",
              "                   tweet_created            tweet_id   tweet_location  \\\n",
              "1      2015-08-07 09:54:46 -0700  629697199560069120              NaN   \n",
              "3      2015-08-07 09:54:45 -0700  629697197118861312            Texas   \n",
              "4      2015-08-07 09:54:45 -0700  629697196967903232              NaN   \n",
              "5      2015-08-07 09:54:44 -0700  629697194283499520              NaN   \n",
              "6      2015-08-07 09:54:44 -0700  629697192383672320    North Georgia   \n",
              "...                          ...                 ...              ...   \n",
              "13866  2015-08-07 09:29:43 -0700  629690895479250944             Como   \n",
              "13867  2015-08-07 09:25:02 -0700  629689719056568320              USA   \n",
              "13868  2015-08-07 07:19:18 -0700  629658075784282112              NaN   \n",
              "13869  2015-08-07 09:54:04 -0700  629697023663546368              NaN   \n",
              "13870  2015-08-06 18:22:27 -0700  629462573641920512  San Antonio, TX   \n",
              "\n",
              "                    user_timezone  \n",
              "1                             NaN  \n",
              "3      Central Time (US & Canada)  \n",
              "4                         Arizona  \n",
              "5      Central Time (US & Canada)  \n",
              "6      Eastern Time (US & Canada)  \n",
              "...                           ...  \n",
              "13866                         NaN  \n",
              "13867                         NaN  \n",
              "13868                         NaN  \n",
              "13869                         NaN  \n",
              "13870  Central Time (US & Canada)  \n",
              "\n",
              "[10729 rows x 21 columns]"
            ],
            "text/html": [
              "\n",
              "  <div id=\"df-7c79b0cb-bedd-4a6a-84e7-b04667ea6fc0\">\n",
              "    <div class=\"colab-df-container\">\n",
              "      <div>\n",
              "<style scoped>\n",
              "    .dataframe tbody tr th:only-of-type {\n",
              "        vertical-align: middle;\n",
              "    }\n",
              "\n",
              "    .dataframe tbody tr th {\n",
              "        vertical-align: top;\n",
              "    }\n",
              "\n",
              "    .dataframe thead th {\n",
              "        text-align: right;\n",
              "    }\n",
              "</style>\n",
              "<table border=\"1\" class=\"dataframe\">\n",
              "  <thead>\n",
              "    <tr style=\"text-align: right;\">\n",
              "      <th></th>\n",
              "      <th>id</th>\n",
              "      <th>candidate</th>\n",
              "      <th>candidate_confidence</th>\n",
              "      <th>relevant_yn</th>\n",
              "      <th>relevant_yn_confidence</th>\n",
              "      <th>sentiment</th>\n",
              "      <th>sentiment_confidence</th>\n",
              "      <th>subject_matter</th>\n",
              "      <th>subject_matter_confidence</th>\n",
              "      <th>candidate_gold</th>\n",
              "      <th>...</th>\n",
              "      <th>relevant_yn_gold</th>\n",
              "      <th>retweet_count</th>\n",
              "      <th>sentiment_gold</th>\n",
              "      <th>subject_matter_gold</th>\n",
              "      <th>text</th>\n",
              "      <th>tweet_coord</th>\n",
              "      <th>tweet_created</th>\n",
              "      <th>tweet_id</th>\n",
              "      <th>tweet_location</th>\n",
              "      <th>user_timezone</th>\n",
              "    </tr>\n",
              "  </thead>\n",
              "  <tbody>\n",
              "    <tr>\n",
              "      <th>1</th>\n",
              "      <td>2</td>\n",
              "      <td>Scott Walker</td>\n",
              "      <td>1.0000</td>\n",
              "      <td>yes</td>\n",
              "      <td>1.0000</td>\n",
              "      <td>Positive</td>\n",
              "      <td>0.6333</td>\n",
              "      <td>None of the above</td>\n",
              "      <td>1.0000</td>\n",
              "      <td>NaN</td>\n",
              "      <td>...</td>\n",
              "      <td>NaN</td>\n",
              "      <td>26</td>\n",
              "      <td>NaN</td>\n",
              "      <td>NaN</td>\n",
              "      <td>RT @ScottWalker: Didn't catch the full #GOPdeb...</td>\n",
              "      <td>NaN</td>\n",
              "      <td>2015-08-07 09:54:46 -0700</td>\n",
              "      <td>629697199560069120</td>\n",
              "      <td>NaN</td>\n",
              "      <td>NaN</td>\n",
              "    </tr>\n",
              "    <tr>\n",
              "      <th>3</th>\n",
              "      <td>4</td>\n",
              "      <td>No candidate mentioned</td>\n",
              "      <td>1.0000</td>\n",
              "      <td>yes</td>\n",
              "      <td>1.0000</td>\n",
              "      <td>Positive</td>\n",
              "      <td>1.0000</td>\n",
              "      <td>None of the above</td>\n",
              "      <td>0.7039</td>\n",
              "      <td>NaN</td>\n",
              "      <td>...</td>\n",
              "      <td>NaN</td>\n",
              "      <td>138</td>\n",
              "      <td>NaN</td>\n",
              "      <td>NaN</td>\n",
              "      <td>RT @RobGeorge: That Carly Fiorina is trending ...</td>\n",
              "      <td>NaN</td>\n",
              "      <td>2015-08-07 09:54:45 -0700</td>\n",
              "      <td>629697197118861312</td>\n",
              "      <td>Texas</td>\n",
              "      <td>Central Time (US &amp; Canada)</td>\n",
              "    </tr>\n",
              "    <tr>\n",
              "      <th>4</th>\n",
              "      <td>5</td>\n",
              "      <td>Donald Trump</td>\n",
              "      <td>1.0000</td>\n",
              "      <td>yes</td>\n",
              "      <td>1.0000</td>\n",
              "      <td>Positive</td>\n",
              "      <td>0.7045</td>\n",
              "      <td>None of the above</td>\n",
              "      <td>1.0000</td>\n",
              "      <td>NaN</td>\n",
              "      <td>...</td>\n",
              "      <td>NaN</td>\n",
              "      <td>156</td>\n",
              "      <td>NaN</td>\n",
              "      <td>NaN</td>\n",
              "      <td>RT @DanScavino: #GOPDebate w/ @realDonaldTrump...</td>\n",
              "      <td>NaN</td>\n",
              "      <td>2015-08-07 09:54:45 -0700</td>\n",
              "      <td>629697196967903232</td>\n",
              "      <td>NaN</td>\n",
              "      <td>Arizona</td>\n",
              "    </tr>\n",
              "    <tr>\n",
              "      <th>5</th>\n",
              "      <td>6</td>\n",
              "      <td>Ted Cruz</td>\n",
              "      <td>0.6332</td>\n",
              "      <td>yes</td>\n",
              "      <td>1.0000</td>\n",
              "      <td>Positive</td>\n",
              "      <td>0.6332</td>\n",
              "      <td>None of the above</td>\n",
              "      <td>1.0000</td>\n",
              "      <td>NaN</td>\n",
              "      <td>...</td>\n",
              "      <td>NaN</td>\n",
              "      <td>228</td>\n",
              "      <td>NaN</td>\n",
              "      <td>NaN</td>\n",
              "      <td>RT @GregAbbott_TX: @TedCruz: \"On my first day ...</td>\n",
              "      <td>NaN</td>\n",
              "      <td>2015-08-07 09:54:44 -0700</td>\n",
              "      <td>629697194283499520</td>\n",
              "      <td>NaN</td>\n",
              "      <td>Central Time (US &amp; Canada)</td>\n",
              "    </tr>\n",
              "    <tr>\n",
              "      <th>6</th>\n",
              "      <td>7</td>\n",
              "      <td>No candidate mentioned</td>\n",
              "      <td>1.0000</td>\n",
              "      <td>yes</td>\n",
              "      <td>1.0000</td>\n",
              "      <td>Negative</td>\n",
              "      <td>0.6761</td>\n",
              "      <td>FOX News or Moderators</td>\n",
              "      <td>1.0000</td>\n",
              "      <td>NaN</td>\n",
              "      <td>...</td>\n",
              "      <td>NaN</td>\n",
              "      <td>17</td>\n",
              "      <td>NaN</td>\n",
              "      <td>NaN</td>\n",
              "      <td>RT @warriorwoman91: I liked her and was happy ...</td>\n",
              "      <td>NaN</td>\n",
              "      <td>2015-08-07 09:54:44 -0700</td>\n",
              "      <td>629697192383672320</td>\n",
              "      <td>North Georgia</td>\n",
              "      <td>Eastern Time (US &amp; Canada)</td>\n",
              "    </tr>\n",
              "    <tr>\n",
              "      <th>...</th>\n",
              "      <td>...</td>\n",
              "      <td>...</td>\n",
              "      <td>...</td>\n",
              "      <td>...</td>\n",
              "      <td>...</td>\n",
              "      <td>...</td>\n",
              "      <td>...</td>\n",
              "      <td>...</td>\n",
              "      <td>...</td>\n",
              "      <td>...</td>\n",
              "      <td>...</td>\n",
              "      <td>...</td>\n",
              "      <td>...</td>\n",
              "      <td>...</td>\n",
              "      <td>...</td>\n",
              "      <td>...</td>\n",
              "      <td>...</td>\n",
              "      <td>...</td>\n",
              "      <td>...</td>\n",
              "      <td>...</td>\n",
              "      <td>...</td>\n",
              "    </tr>\n",
              "    <tr>\n",
              "      <th>13866</th>\n",
              "      <td>13867</td>\n",
              "      <td>No candidate mentioned</td>\n",
              "      <td>1.0000</td>\n",
              "      <td>yes</td>\n",
              "      <td>1.0000</td>\n",
              "      <td>Negative</td>\n",
              "      <td>0.7991</td>\n",
              "      <td>Abortion</td>\n",
              "      <td>0.6014</td>\n",
              "      <td>No candidate mentioned</td>\n",
              "      <td>...</td>\n",
              "      <td>yes</td>\n",
              "      <td>7</td>\n",
              "      <td>Negative</td>\n",
              "      <td>Abortion\\nWomen's Issues (not abortion though)</td>\n",
              "      <td>RT @cappy_yarbrough: Love to see men who will ...</td>\n",
              "      <td>NaN</td>\n",
              "      <td>2015-08-07 09:29:43 -0700</td>\n",
              "      <td>629690895479250944</td>\n",
              "      <td>Como</td>\n",
              "      <td>NaN</td>\n",
              "    </tr>\n",
              "    <tr>\n",
              "      <th>13867</th>\n",
              "      <td>13868</td>\n",
              "      <td>Mike Huckabee</td>\n",
              "      <td>0.9611</td>\n",
              "      <td>yes</td>\n",
              "      <td>1.0000</td>\n",
              "      <td>Positive</td>\n",
              "      <td>0.7302</td>\n",
              "      <td>None of the above</td>\n",
              "      <td>0.9229</td>\n",
              "      <td>Mike Huckabee</td>\n",
              "      <td>...</td>\n",
              "      <td>yes</td>\n",
              "      <td>1</td>\n",
              "      <td>NaN</td>\n",
              "      <td>NaN</td>\n",
              "      <td>RT @georgehenryw: Who thought Huckabee exceede...</td>\n",
              "      <td>NaN</td>\n",
              "      <td>2015-08-07 09:25:02 -0700</td>\n",
              "      <td>629689719056568320</td>\n",
              "      <td>USA</td>\n",
              "      <td>NaN</td>\n",
              "    </tr>\n",
              "    <tr>\n",
              "      <th>13868</th>\n",
              "      <td>13869</td>\n",
              "      <td>Ted Cruz</td>\n",
              "      <td>1.0000</td>\n",
              "      <td>yes</td>\n",
              "      <td>1.0000</td>\n",
              "      <td>Positive</td>\n",
              "      <td>0.8051</td>\n",
              "      <td>None of the above</td>\n",
              "      <td>0.9647</td>\n",
              "      <td>Ted Cruz</td>\n",
              "      <td>...</td>\n",
              "      <td>yes</td>\n",
              "      <td>67</td>\n",
              "      <td>Positive\\nNeutral</td>\n",
              "      <td>NaN</td>\n",
              "      <td>RT @Lrihendry: #TedCruz As President, I will a...</td>\n",
              "      <td>NaN</td>\n",
              "      <td>2015-08-07 07:19:18 -0700</td>\n",
              "      <td>629658075784282112</td>\n",
              "      <td>NaN</td>\n",
              "      <td>NaN</td>\n",
              "    </tr>\n",
              "    <tr>\n",
              "      <th>13869</th>\n",
              "      <td>13870</td>\n",
              "      <td>Donald Trump</td>\n",
              "      <td>1.0000</td>\n",
              "      <td>yes</td>\n",
              "      <td>1.0000</td>\n",
              "      <td>Negative</td>\n",
              "      <td>1.0000</td>\n",
              "      <td>Women's Issues (not abortion though)</td>\n",
              "      <td>0.9202</td>\n",
              "      <td>Donald Trump</td>\n",
              "      <td>...</td>\n",
              "      <td>yes</td>\n",
              "      <td>149</td>\n",
              "      <td>NaN</td>\n",
              "      <td>Women's Issues (not abortion though)</td>\n",
              "      <td>RT @JRehling: #GOPDebate Donald Trump says tha...</td>\n",
              "      <td>NaN</td>\n",
              "      <td>2015-08-07 09:54:04 -0700</td>\n",
              "      <td>629697023663546368</td>\n",
              "      <td>NaN</td>\n",
              "      <td>NaN</td>\n",
              "    </tr>\n",
              "    <tr>\n",
              "      <th>13870</th>\n",
              "      <td>13871</td>\n",
              "      <td>Ted Cruz</td>\n",
              "      <td>0.9242</td>\n",
              "      <td>yes</td>\n",
              "      <td>0.9614</td>\n",
              "      <td>Positive</td>\n",
              "      <td>0.9614</td>\n",
              "      <td>None of the above</td>\n",
              "      <td>0.9242</td>\n",
              "      <td>Ted Cruz</td>\n",
              "      <td>...</td>\n",
              "      <td>yes</td>\n",
              "      <td>65</td>\n",
              "      <td>Positive</td>\n",
              "      <td>NaN</td>\n",
              "      <td>RT @Lrihendry: #TedCruz headed into the Presid...</td>\n",
              "      <td>NaN</td>\n",
              "      <td>2015-08-06 18:22:27 -0700</td>\n",
              "      <td>629462573641920512</td>\n",
              "      <td>San Antonio, TX</td>\n",
              "      <td>Central Time (US &amp; Canada)</td>\n",
              "    </tr>\n",
              "  </tbody>\n",
              "</table>\n",
              "<p>10729 rows × 21 columns</p>\n",
              "</div>\n",
              "      <button class=\"colab-df-convert\" onclick=\"convertToInteractive('df-7c79b0cb-bedd-4a6a-84e7-b04667ea6fc0')\"\n",
              "              title=\"Convert this dataframe to an interactive table.\"\n",
              "              style=\"display:none;\">\n",
              "        \n",
              "  <svg xmlns=\"http://www.w3.org/2000/svg\" height=\"24px\"viewBox=\"0 0 24 24\"\n",
              "       width=\"24px\">\n",
              "    <path d=\"M0 0h24v24H0V0z\" fill=\"none\"/>\n",
              "    <path d=\"M18.56 5.44l.94 2.06.94-2.06 2.06-.94-2.06-.94-.94-2.06-.94 2.06-2.06.94zm-11 1L8.5 8.5l.94-2.06 2.06-.94-2.06-.94L8.5 2.5l-.94 2.06-2.06.94zm10 10l.94 2.06.94-2.06 2.06-.94-2.06-.94-.94-2.06-.94 2.06-2.06.94z\"/><path d=\"M17.41 7.96l-1.37-1.37c-.4-.4-.92-.59-1.43-.59-.52 0-1.04.2-1.43.59L10.3 9.45l-7.72 7.72c-.78.78-.78 2.05 0 2.83L4 21.41c.39.39.9.59 1.41.59.51 0 1.02-.2 1.41-.59l7.78-7.78 2.81-2.81c.8-.78.8-2.07 0-2.86zM5.41 20L4 18.59l7.72-7.72 1.47 1.35L5.41 20z\"/>\n",
              "  </svg>\n",
              "      </button>\n",
              "      \n",
              "  <style>\n",
              "    .colab-df-container {\n",
              "      display:flex;\n",
              "      flex-wrap:wrap;\n",
              "      gap: 12px;\n",
              "    }\n",
              "\n",
              "    .colab-df-convert {\n",
              "      background-color: #E8F0FE;\n",
              "      border: none;\n",
              "      border-radius: 50%;\n",
              "      cursor: pointer;\n",
              "      display: none;\n",
              "      fill: #1967D2;\n",
              "      height: 32px;\n",
              "      padding: 0 0 0 0;\n",
              "      width: 32px;\n",
              "    }\n",
              "\n",
              "    .colab-df-convert:hover {\n",
              "      background-color: #E2EBFA;\n",
              "      box-shadow: 0px 1px 2px rgba(60, 64, 67, 0.3), 0px 1px 3px 1px rgba(60, 64, 67, 0.15);\n",
              "      fill: #174EA6;\n",
              "    }\n",
              "\n",
              "    [theme=dark] .colab-df-convert {\n",
              "      background-color: #3B4455;\n",
              "      fill: #D2E3FC;\n",
              "    }\n",
              "\n",
              "    [theme=dark] .colab-df-convert:hover {\n",
              "      background-color: #434B5C;\n",
              "      box-shadow: 0px 1px 3px 1px rgba(0, 0, 0, 0.15);\n",
              "      filter: drop-shadow(0px 1px 2px rgba(0, 0, 0, 0.3));\n",
              "      fill: #FFFFFF;\n",
              "    }\n",
              "  </style>\n",
              "\n",
              "      <script>\n",
              "        const buttonEl =\n",
              "          document.querySelector('#df-7c79b0cb-bedd-4a6a-84e7-b04667ea6fc0 button.colab-df-convert');\n",
              "        buttonEl.style.display =\n",
              "          google.colab.kernel.accessAllowed ? 'block' : 'none';\n",
              "\n",
              "        async function convertToInteractive(key) {\n",
              "          const element = document.querySelector('#df-7c79b0cb-bedd-4a6a-84e7-b04667ea6fc0');\n",
              "          const dataTable =\n",
              "            await google.colab.kernel.invokeFunction('convertToInteractive',\n",
              "                                                     [key], {});\n",
              "          if (!dataTable) return;\n",
              "\n",
              "          const docLinkHtml = 'Like what you see? Visit the ' +\n",
              "            '<a target=\"_blank\" href=https://colab.research.google.com/notebooks/data_table.ipynb>data table notebook</a>'\n",
              "            + ' to learn more about interactive tables.';\n",
              "          element.innerHTML = '';\n",
              "          dataTable['output_type'] = 'display_data';\n",
              "          await google.colab.output.renderOutput(dataTable, element);\n",
              "          const docLink = document.createElement('div');\n",
              "          docLink.innerHTML = docLinkHtml;\n",
              "          element.appendChild(docLink);\n",
              "        }\n",
              "      </script>\n",
              "    </div>\n",
              "  </div>\n",
              "  "
            ]
          },
          "metadata": {},
          "execution_count": 9
        }
      ]
    },
    {
      "cell_type": "code",
      "source": [
        "# Q1 total number of positive and negative sentiments."
      ],
      "metadata": {
        "id": "7rSdOnhtY1UM"
      },
      "execution_count": 52,
      "outputs": []
    },
    {
      "cell_type": "code",
      "source": [
        "df_filtered2['sentiment'].value_counts()"
      ],
      "metadata": {
        "colab": {
          "base_uri": "https://localhost:8080/"
        },
        "id": "bHTpEqX2Y-TD",
        "outputId": "3f51bc68-7416-4291-ff79-4d76a0e1115c"
      },
      "execution_count": 51,
      "outputs": [
        {
          "output_type": "execute_result",
          "data": {
            "text/plain": [
              "Negative    8493\n",
              "Positive    2236\n",
              "Name: sentiment, dtype: int64"
            ]
          },
          "metadata": {},
          "execution_count": 51
        }
      ]
    },
    {
      "cell_type": "code",
      "source": [
        "df_filtered[\"sentiment\"] =np.where(df_filtered[\"sentiment\"].str.contains(\"Positive\"), 1, 0)"
      ],
      "metadata": {
        "id": "cASzzukCZ15F"
      },
      "execution_count": 54,
      "outputs": []
    },
    {
      "cell_type": "code",
      "source": [
        "df_filtered2=df_filtered[['sentiment','text']]\n",
        "df_filtered2"
      ],
      "metadata": {
        "colab": {
          "base_uri": "https://localhost:8080/",
          "height": 423
        },
        "id": "Qdxjgfu6NIcQ",
        "outputId": "aa705c81-89b0-456b-b810-89cbac61b6c2"
      },
      "execution_count": 55,
      "outputs": [
        {
          "output_type": "execute_result",
          "data": {
            "text/plain": [
              "       sentiment                                               text\n",
              "1              1  RT @ScottWalker: Didn't catch the full #GOPdeb...\n",
              "3              1  RT @RobGeorge: That Carly Fiorina is trending ...\n",
              "4              1  RT @DanScavino: #GOPDebate w/ @realDonaldTrump...\n",
              "5              1  RT @GregAbbott_TX: @TedCruz: \"On my first day ...\n",
              "6              0  RT @warriorwoman91: I liked her and was happy ...\n",
              "...          ...                                                ...\n",
              "13866          0  RT @cappy_yarbrough: Love to see men who will ...\n",
              "13867          1  RT @georgehenryw: Who thought Huckabee exceede...\n",
              "13868          1  RT @Lrihendry: #TedCruz As President, I will a...\n",
              "13869          0  RT @JRehling: #GOPDebate Donald Trump says tha...\n",
              "13870          1  RT @Lrihendry: #TedCruz headed into the Presid...\n",
              "\n",
              "[10729 rows x 2 columns]"
            ],
            "text/html": [
              "\n",
              "  <div id=\"df-ced2b757-09d9-47be-ae56-9026b89823d6\">\n",
              "    <div class=\"colab-df-container\">\n",
              "      <div>\n",
              "<style scoped>\n",
              "    .dataframe tbody tr th:only-of-type {\n",
              "        vertical-align: middle;\n",
              "    }\n",
              "\n",
              "    .dataframe tbody tr th {\n",
              "        vertical-align: top;\n",
              "    }\n",
              "\n",
              "    .dataframe thead th {\n",
              "        text-align: right;\n",
              "    }\n",
              "</style>\n",
              "<table border=\"1\" class=\"dataframe\">\n",
              "  <thead>\n",
              "    <tr style=\"text-align: right;\">\n",
              "      <th></th>\n",
              "      <th>sentiment</th>\n",
              "      <th>text</th>\n",
              "    </tr>\n",
              "  </thead>\n",
              "  <tbody>\n",
              "    <tr>\n",
              "      <th>1</th>\n",
              "      <td>1</td>\n",
              "      <td>RT @ScottWalker: Didn't catch the full #GOPdeb...</td>\n",
              "    </tr>\n",
              "    <tr>\n",
              "      <th>3</th>\n",
              "      <td>1</td>\n",
              "      <td>RT @RobGeorge: That Carly Fiorina is trending ...</td>\n",
              "    </tr>\n",
              "    <tr>\n",
              "      <th>4</th>\n",
              "      <td>1</td>\n",
              "      <td>RT @DanScavino: #GOPDebate w/ @realDonaldTrump...</td>\n",
              "    </tr>\n",
              "    <tr>\n",
              "      <th>5</th>\n",
              "      <td>1</td>\n",
              "      <td>RT @GregAbbott_TX: @TedCruz: \"On my first day ...</td>\n",
              "    </tr>\n",
              "    <tr>\n",
              "      <th>6</th>\n",
              "      <td>0</td>\n",
              "      <td>RT @warriorwoman91: I liked her and was happy ...</td>\n",
              "    </tr>\n",
              "    <tr>\n",
              "      <th>...</th>\n",
              "      <td>...</td>\n",
              "      <td>...</td>\n",
              "    </tr>\n",
              "    <tr>\n",
              "      <th>13866</th>\n",
              "      <td>0</td>\n",
              "      <td>RT @cappy_yarbrough: Love to see men who will ...</td>\n",
              "    </tr>\n",
              "    <tr>\n",
              "      <th>13867</th>\n",
              "      <td>1</td>\n",
              "      <td>RT @georgehenryw: Who thought Huckabee exceede...</td>\n",
              "    </tr>\n",
              "    <tr>\n",
              "      <th>13868</th>\n",
              "      <td>1</td>\n",
              "      <td>RT @Lrihendry: #TedCruz As President, I will a...</td>\n",
              "    </tr>\n",
              "    <tr>\n",
              "      <th>13869</th>\n",
              "      <td>0</td>\n",
              "      <td>RT @JRehling: #GOPDebate Donald Trump says tha...</td>\n",
              "    </tr>\n",
              "    <tr>\n",
              "      <th>13870</th>\n",
              "      <td>1</td>\n",
              "      <td>RT @Lrihendry: #TedCruz headed into the Presid...</td>\n",
              "    </tr>\n",
              "  </tbody>\n",
              "</table>\n",
              "<p>10729 rows × 2 columns</p>\n",
              "</div>\n",
              "      <button class=\"colab-df-convert\" onclick=\"convertToInteractive('df-ced2b757-09d9-47be-ae56-9026b89823d6')\"\n",
              "              title=\"Convert this dataframe to an interactive table.\"\n",
              "              style=\"display:none;\">\n",
              "        \n",
              "  <svg xmlns=\"http://www.w3.org/2000/svg\" height=\"24px\"viewBox=\"0 0 24 24\"\n",
              "       width=\"24px\">\n",
              "    <path d=\"M0 0h24v24H0V0z\" fill=\"none\"/>\n",
              "    <path d=\"M18.56 5.44l.94 2.06.94-2.06 2.06-.94-2.06-.94-.94-2.06-.94 2.06-2.06.94zm-11 1L8.5 8.5l.94-2.06 2.06-.94-2.06-.94L8.5 2.5l-.94 2.06-2.06.94zm10 10l.94 2.06.94-2.06 2.06-.94-2.06-.94-.94-2.06-.94 2.06-2.06.94z\"/><path d=\"M17.41 7.96l-1.37-1.37c-.4-.4-.92-.59-1.43-.59-.52 0-1.04.2-1.43.59L10.3 9.45l-7.72 7.72c-.78.78-.78 2.05 0 2.83L4 21.41c.39.39.9.59 1.41.59.51 0 1.02-.2 1.41-.59l7.78-7.78 2.81-2.81c.8-.78.8-2.07 0-2.86zM5.41 20L4 18.59l7.72-7.72 1.47 1.35L5.41 20z\"/>\n",
              "  </svg>\n",
              "      </button>\n",
              "      \n",
              "  <style>\n",
              "    .colab-df-container {\n",
              "      display:flex;\n",
              "      flex-wrap:wrap;\n",
              "      gap: 12px;\n",
              "    }\n",
              "\n",
              "    .colab-df-convert {\n",
              "      background-color: #E8F0FE;\n",
              "      border: none;\n",
              "      border-radius: 50%;\n",
              "      cursor: pointer;\n",
              "      display: none;\n",
              "      fill: #1967D2;\n",
              "      height: 32px;\n",
              "      padding: 0 0 0 0;\n",
              "      width: 32px;\n",
              "    }\n",
              "\n",
              "    .colab-df-convert:hover {\n",
              "      background-color: #E2EBFA;\n",
              "      box-shadow: 0px 1px 2px rgba(60, 64, 67, 0.3), 0px 1px 3px 1px rgba(60, 64, 67, 0.15);\n",
              "      fill: #174EA6;\n",
              "    }\n",
              "\n",
              "    [theme=dark] .colab-df-convert {\n",
              "      background-color: #3B4455;\n",
              "      fill: #D2E3FC;\n",
              "    }\n",
              "\n",
              "    [theme=dark] .colab-df-convert:hover {\n",
              "      background-color: #434B5C;\n",
              "      box-shadow: 0px 1px 3px 1px rgba(0, 0, 0, 0.15);\n",
              "      filter: drop-shadow(0px 1px 2px rgba(0, 0, 0, 0.3));\n",
              "      fill: #FFFFFF;\n",
              "    }\n",
              "  </style>\n",
              "\n",
              "      <script>\n",
              "        const buttonEl =\n",
              "          document.querySelector('#df-ced2b757-09d9-47be-ae56-9026b89823d6 button.colab-df-convert');\n",
              "        buttonEl.style.display =\n",
              "          google.colab.kernel.accessAllowed ? 'block' : 'none';\n",
              "\n",
              "        async function convertToInteractive(key) {\n",
              "          const element = document.querySelector('#df-ced2b757-09d9-47be-ae56-9026b89823d6');\n",
              "          const dataTable =\n",
              "            await google.colab.kernel.invokeFunction('convertToInteractive',\n",
              "                                                     [key], {});\n",
              "          if (!dataTable) return;\n",
              "\n",
              "          const docLinkHtml = 'Like what you see? Visit the ' +\n",
              "            '<a target=\"_blank\" href=https://colab.research.google.com/notebooks/data_table.ipynb>data table notebook</a>'\n",
              "            + ' to learn more about interactive tables.';\n",
              "          element.innerHTML = '';\n",
              "          dataTable['output_type'] = 'display_data';\n",
              "          await google.colab.output.renderOutput(dataTable, element);\n",
              "          const docLink = document.createElement('div');\n",
              "          docLink.innerHTML = docLinkHtml;\n",
              "          element.appendChild(docLink);\n",
              "        }\n",
              "      </script>\n",
              "    </div>\n",
              "  </div>\n",
              "  "
            ]
          },
          "metadata": {},
          "execution_count": 55
        }
      ]
    },
    {
      "cell_type": "code",
      "source": [
        "#lower caseing\n",
        "df_filtered2['text'] = df_filtered2['text'].apply(lambda x: x.lower()) \n"
      ],
      "metadata": {
        "id": "Qk0nYHvQPqhM"
      },
      "execution_count": 15,
      "outputs": []
    },
    {
      "cell_type": "code",
      "source": [
        "# removing special characters\n",
        "df_filtered2['text'] = df_filtered2['text'].apply((lambda x: re.sub('[^a-zA-z0-9\\s]','',x))) \n"
      ],
      "metadata": {
        "id": "xcv34VPOQaAL"
      },
      "execution_count": 16,
      "outputs": []
    },
    {
      "cell_type": "code",
      "source": [
        "# removing rt\n",
        "df_filtered2['text'] = df_filtered2.text.str.replace('rt','') "
      ],
      "metadata": {
        "id": "WdAFvglxSPts"
      },
      "execution_count": 17,
      "outputs": []
    },
    {
      "cell_type": "code",
      "source": [
        "train_df, test_df = train_test_split(df_filtered2, test_size = 0.2, random_state = 42)\n",
        "print(\"Training data size : \", train_df.shape)\n",
        "print(\"Test data size : \", test_df.shape)"
      ],
      "metadata": {
        "colab": {
          "base_uri": "https://localhost:8080/"
        },
        "id": "HfoiJ1X4SUsU",
        "outputId": "48839fd3-89f4-45e7-89c4-66abddcf3aa7"
      },
      "execution_count": 56,
      "outputs": [
        {
          "output_type": "stream",
          "name": "stdout",
          "text": [
            "Training data size :  (8583, 2)\n",
            "Test data size :  (2146, 2)\n"
          ]
        }
      ]
    },
    {
      "cell_type": "code",
      "source": [
        "top_words = 6000\n",
        "tokenizer = Tokenizer(num_words=top_words)\n",
        "tokenizer.fit_on_texts(train_df['text'])\n",
        "list_tokenized_train = tokenizer.texts_to_sequences(train_df['text'])\n",
        "\n",
        "max_review_length = 130\n",
        "X_train = pad_sequences(list_tokenized_train, maxlen=max_review_length)\n",
        "y_train = train_df['sentiment']"
      ],
      "metadata": {
        "id": "M7cwVjEBTBhg"
      },
      "execution_count": 57,
      "outputs": []
    },
    {
      "cell_type": "code",
      "source": [
        "# Q2 sequential LSTM "
      ],
      "metadata": {
        "id": "fpG2IzG8YWrc"
      },
      "execution_count": 43,
      "outputs": []
    },
    {
      "cell_type": "code",
      "source": [
        "embedding_vecor_length = 32\n",
        "model = Sequential()\n",
        "model.add(Embedding(top_words+1, embedding_vecor_length, input_length=max_review_length))\n",
        "model.add(LSTM(100))\n",
        "model.add(Dense(1, activation='sigmoid'))\n",
        "model.compile(loss='binary_crossentropy', optimizer='adam', metrics=['accuracy'])\n",
        "model.summary()"
      ],
      "metadata": {
        "colab": {
          "base_uri": "https://localhost:8080/"
        },
        "id": "KlndxMCiTWgf",
        "outputId": "102d301f-9ac5-47c2-d6bf-22e2bc233d9b"
      },
      "execution_count": 58,
      "outputs": [
        {
          "output_type": "stream",
          "name": "stdout",
          "text": [
            "Model: \"sequential_4\"\n",
            "_________________________________________________________________\n",
            " Layer (type)                Output Shape              Param #   \n",
            "=================================================================\n",
            " embedding_4 (Embedding)     (None, 130, 32)           192032    \n",
            "                                                                 \n",
            " lstm_4 (LSTM)               (None, 100)               53200     \n",
            "                                                                 \n",
            " dense_4 (Dense)             (None, 1)                 101       \n",
            "                                                                 \n",
            "=================================================================\n",
            "Total params: 245,333\n",
            "Trainable params: 245,333\n",
            "Non-trainable params: 0\n",
            "_________________________________________________________________\n"
          ]
        }
      ]
    },
    {
      "cell_type": "code",
      "source": [
        "hist=model.fit(X_train,y_train, epochs=8, batch_size=64, validation_split=0.2)"
      ],
      "metadata": {
        "colab": {
          "base_uri": "https://localhost:8080/"
        },
        "id": "hblvJaCja35W",
        "outputId": "9399084f-2013-4e24-d3c6-5856ef74aa5c"
      },
      "execution_count": 61,
      "outputs": [
        {
          "output_type": "stream",
          "name": "stdout",
          "text": [
            "Epoch 1/8\n",
            "108/108 [==============================] - 16s 146ms/step - loss: 0.1871 - accuracy: 0.9244 - val_loss: 0.4040 - val_accuracy: 0.8486\n",
            "Epoch 2/8\n",
            "108/108 [==============================] - 16s 148ms/step - loss: 0.1510 - accuracy: 0.9404 - val_loss: 0.4296 - val_accuracy: 0.8550\n",
            "Epoch 3/8\n",
            "108/108 [==============================] - 16s 148ms/step - loss: 0.1220 - accuracy: 0.9551 - val_loss: 0.4959 - val_accuracy: 0.8614\n",
            "Epoch 4/8\n",
            "108/108 [==============================] - 16s 147ms/step - loss: 0.1039 - accuracy: 0.9581 - val_loss: 0.5037 - val_accuracy: 0.8509\n",
            "Epoch 5/8\n",
            "108/108 [==============================] - 16s 146ms/step - loss: 0.0924 - accuracy: 0.9634 - val_loss: 0.5603 - val_accuracy: 0.8497\n",
            "Epoch 6/8\n",
            "108/108 [==============================] - 16s 147ms/step - loss: 0.0914 - accuracy: 0.9659 - val_loss: 0.5387 - val_accuracy: 0.8497\n",
            "Epoch 7/8\n",
            "108/108 [==============================] - 16s 147ms/step - loss: 0.0795 - accuracy: 0.9699 - val_loss: 0.5511 - val_accuracy: 0.8445\n",
            "Epoch 8/8\n",
            "108/108 [==============================] - 16s 147ms/step - loss: 0.0739 - accuracy: 0.9701 - val_loss: 0.5973 - val_accuracy: 0.8387\n"
          ]
        }
      ]
    },
    {
      "cell_type": "code",
      "source": [
        "# Q3 check the sentiment for the following two sentences  "
      ],
      "metadata": {
        "id": "6rnmxSI4Tiux"
      },
      "execution_count": 42,
      "outputs": []
    },
    {
      "cell_type": "code",
      "source": [
        "sentence={\n",
        "    \"'He is a great leader\",\n",
        "    \"He is a terrible leader.\"\n",
        "}"
      ],
      "metadata": {
        "id": "_AxFLbgxTmTw"
      },
      "execution_count": 62,
      "outputs": []
    },
    {
      "cell_type": "code",
      "source": [
        "list_tokenized_test = tokenizer.texts_to_sequences(sentence)\n",
        "X_test = pad_sequences(list_tokenized_test, maxlen=max_review_length)"
      ],
      "metadata": {
        "id": "_yFdmaBMXevz"
      },
      "execution_count": 63,
      "outputs": []
    },
    {
      "cell_type": "code",
      "source": [
        "prediction = model.predict(X_test)"
      ],
      "metadata": {
        "id": "J44sl9MoXidl"
      },
      "execution_count": 64,
      "outputs": []
    },
    {
      "cell_type": "code",
      "source": [
        "prediction"
      ],
      "metadata": {
        "colab": {
          "base_uri": "https://localhost:8080/"
        },
        "id": "rPa265RSXkyy",
        "outputId": "bc06a0c0-e10d-4337-8375-4dea94fc9364"
      },
      "execution_count": 65,
      "outputs": [
        {
          "output_type": "execute_result",
          "data": {
            "text/plain": [
              "array([[0.94680214],\n",
              "       [0.09080806]], dtype=float32)"
            ]
          },
          "metadata": {},
          "execution_count": 65
        }
      ]
    },
    {
      "cell_type": "code",
      "source": [
        ""
      ],
      "metadata": {
        "id": "Sh9n0IujXm-U"
      },
      "execution_count": 42,
      "outputs": []
    },
    {
      "cell_type": "code",
      "source": [
        ""
      ],
      "metadata": {
        "id": "p8xteMAMX1Kq"
      },
      "execution_count": null,
      "outputs": []
    }
  ]
}